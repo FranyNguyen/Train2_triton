{
 "cells": [
  {
   "cell_type": "code",
   "execution_count": 2,
   "metadata": {},
   "outputs": [],
   "source": [
    "import numpy as np\n",
    "\n",
    "from torchvision import transforms\n",
    "from PIL import Image\n",
    "import tritonclient.http as httpclient"
   ]
  },
  {
   "cell_type": "code",
   "execution_count": 15,
   "metadata": {},
   "outputs": [],
   "source": [
    "img_path = \"img1.jpg\"\n",
    "\n",
    "transform = transforms.Compose([\n",
    "    transforms.Resize((224, 224)),\n",
    "    transforms.ToTensor(),\n",
    "    transforms.Normalize(mean=[0.485, 0.456, 0.406], std=[0.229, 0.224, 0.225])\n",
    "])\n",
    "image = Image.open(img_path).convert(\"RGB\")\n",
    "transformed_img = transform(image).unsqueeze(0).numpy()"
   ]
  },
  {
   "cell_type": "code",
   "execution_count": 16,
   "metadata": {},
   "outputs": [],
   "source": [
    "inputs = httpclient.InferInput(\"data_0\", transformed_img.shape, datatype=\"FP32\")\n",
    "inputs.set_data_from_numpy(transformed_img, binary_data=True)\n",
    "\n",
    "outputs = httpclient.InferRequestedOutput(\"fc6_1\", binary_data=True, class_count=1000)"
   ]
  },
  {
   "cell_type": "code",
   "execution_count": 17,
   "metadata": {},
   "outputs": [
    {
     "name": "stdout",
     "output_type": "stream",
     "text": [
      "['11.481906:14' '11.101565:92' '8.271426:88' '7.760969:17' '7.278370:90']\n"
     ]
    }
   ],
   "source": [
    "# Querying the server\n",
    "results = client.infer(model_name=\"densenet_onnx\", inputs=[inputs], outputs=[outputs])\n",
    "inference_output = results.as_numpy('fc6_1').astype(str)\n",
    "\n",
    "print(np.squeeze(inference_output)[:5])"
   ]
  },
  {
   "cell_type": "code",
   "execution_count": null,
   "metadata": {},
   "outputs": [],
   "source": []
  }
 ],
 "metadata": {
  "kernelspec": {
   "display_name": "Python 3",
   "language": "python",
   "name": "python3"
  },
  "language_info": {
   "codemirror_mode": {
    "name": "ipython",
    "version": 3
   },
   "file_extension": ".py",
   "mimetype": "text/x-python",
   "name": "python",
   "nbconvert_exporter": "python",
   "pygments_lexer": "ipython3",
   "version": "3.8.20"
  }
 },
 "nbformat": 4,
 "nbformat_minor": 2
}
